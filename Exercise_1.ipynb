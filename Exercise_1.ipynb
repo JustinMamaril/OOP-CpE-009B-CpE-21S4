{
  "nbformat": 4,
  "nbformat_minor": 0,
  "metadata": {
    "colab": {
      "provenance": [],
      "authorship_tag": "ABX9TyPa8BiXMxsRDy1SgErlBfzl",
      "include_colab_link": true
    },
    "kernelspec": {
      "name": "python3",
      "display_name": "Python 3"
    },
    "language_info": {
      "name": "python"
    }
  },
  "cells": [
    {
      "cell_type": "markdown",
      "metadata": {
        "id": "view-in-github",
        "colab_type": "text"
      },
      "source": [
        "<a href=\"https://colab.research.google.com/github/JustinMamaril/OOP-CpE-009B-CpE-21S4/blob/main/Exercise_1.ipynb\" target=\"_parent\"><img src=\"https://colab.research.google.com/assets/colab-badge.svg\" alt=\"Open In Colab\"/></a>"
      ]
    },
    {
      "cell_type": "code",
      "execution_count": 13,
      "metadata": {
        "colab": {
          "base_uri": "https://localhost:8080/"
        },
        "id": "EgDnrVYAFY1V",
        "outputId": "268e3e12-6ce9-48ae-c1c7-16a2db0213d0"
      },
      "outputs": [
        {
          "output_type": "stream",
          "name": "stdout",
          "text": [
            "1\n"
          ]
        }
      ],
      "source": [
        "#class constructor\n",
        "\n",
        "class Number:\n",
        "  def __init__(self,x):\n",
        "    self.x = x\n",
        "number = Number(1)\n",
        "print (number.x)\n",
        ""
      ]
    },
    {
      "cell_type": "code",
      "source": [
        "#superclass/parent class constructor\n",
        "\n",
        "class Person:\n",
        "  def __init__ (self,name,age,birthdate): #defining attributes and identity\n",
        "    self.name = name\n",
        "    self.age = age\n",
        "    self.birthdate = birthdate\n",
        "\n",
        "  def person_attribute(self): #defining methods\n",
        "    return f\"My name is {self.name} and with an age of {self.age} and born on {self.birthdate}\"\n",
        "\n",
        "class Teacher(Person): #subclass constructor\n",
        "  pass\n",
        "class Student(Person): #subclass constructor\n",
        "  pass\n",
        "\n",
        "#object instantation\n",
        "aperson = Person(\"JK\", 19, \"December 9, 2004\") #behavior/instance of class\n",
        "print(aperson.person_attribute())\n",
        "\n",
        "student = Student(\"Reuel\", 19, \"September 22, 2004\")\n",
        "print(student.name)\n",
        "print(student.age)\n",
        "print(student.birthdate)\n",
        "\n",
        "teacher = Teacher(\"Alice Guo\", 38, \"July 12, 19,1986\")\n",
        "print(teacher.person_attribute())"
      ],
      "metadata": {
        "colab": {
          "base_uri": "https://localhost:8080/"
        },
        "id": "3MJgdlkQH5Dl",
        "outputId": "942ecc5c-7671-40c1-906c-dd7a736e8dd6"
      },
      "execution_count": 18,
      "outputs": [
        {
          "output_type": "stream",
          "name": "stdout",
          "text": [
            "My name is JK and with an age of 19 and born on December 9, 2004\n",
            "Reuel\n",
            "19\n",
            "September 22, 2004\n",
            "My name is Alice Guo and with an age of 38 and born on July 12, 19,1986\n"
          ]
        }
      ]
    },
    {
      "cell_type": "markdown",
      "source": [
        "# **Challenge 1**"
      ],
      "metadata": {
        "id": "5HMYHJG3Szb-"
      }
    },
    {
      "cell_type": "code",
      "source": [
        "#Create a python program that has the following:\n",
        "#1. Super class named as Shapes\n",
        "#2. Subclasses: Rectangle, Square\n",
        "#3. Methods : Perimeter(), Area()\n",
        "#4. Object name : rectangle, square\n",
        "#5. Inherits the attributes of Superclass shapes self.side = side\n",
        "\n",
        "#1. Super class named as shapes\n",
        "class Shapes:\n",
        "  def __init__(self,side1,side2):\n",
        "    self.side1 = side1\n",
        "    self.side2 = side2\n",
        "\n",
        "#3. Methods: Perimeter(), Area()\n",
        "  def Perimeter(self):\n",
        "    return 2*(self.side1 + self.side2)\n",
        "\n",
        "  def Area(self):\n",
        "    return (self.side1 * self.side2)\n",
        "\n",
        "#2. Subclasses: Rectangle, Square\n",
        "class Rectangle(Shapes):\n",
        "  pass\n",
        "\n",
        "class Square(Shapes):\n",
        "  pass\n",
        "\n",
        "#4.Object name : rectangle, square\n",
        "\n",
        "rectangle = Rectangle(2,5)\n",
        "#5.Inherits the attributes of Superclass shapes self.side = side\n",
        "print(\"The perimeter of the rectangle is\", rectangle.Perimeter())\n",
        "print(\"The area of the rectangle is\", rectangle.Area())\n",
        "\n",
        "square = Square(5,5)\n",
        "print(\"The perimeter of the square is\", square.Perimeter())\n",
        "print(\"The area of the square is\", square.Area())"
      ],
      "metadata": {
        "colab": {
          "base_uri": "https://localhost:8080/"
        },
        "id": "PqN-y3oMS4wm",
        "outputId": "a3c21e68-8e6c-4422-8475-714e972a0f73"
      },
      "execution_count": 31,
      "outputs": [
        {
          "output_type": "stream",
          "name": "stdout",
          "text": [
            "The perimeter of the rectangle is 14\n",
            "The area of the rectangle is 10\n",
            "The perimeter of the square is 20\n",
            "The area of the square is 25\n"
          ]
        }
      ]
    }
  ]
}